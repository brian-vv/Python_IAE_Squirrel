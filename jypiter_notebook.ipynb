{
 "cells": [
  {
   "cell_type": "code",
   "execution_count": 16,
   "metadata": {},
   "outputs": [
    {
     "name": "stdout",
     "output_type": "stream",
     "text": [
      "0         NaN\n",
      "1         NaN\n",
      "2         NaN\n",
      "3       Adult\n",
      "4       Adult\n",
      "        ...  \n",
      "3018    Adult\n",
      "3019    Adult\n",
      "3020    Adult\n",
      "3021      NaN\n",
      "3022    Adult\n",
      "Name: Age, Length: 3023, dtype: object\n"
     ]
    }
   ],
   "source": [
    "import pandas as pd \n",
    "\n",
    "data_squirrel = pd.read_csv('datas/2018_Central_Park_Squirrel_Census_-_Squirrel_Data.csv')\n",
    "#total_squirrel = data_squirrel.Unique_Squirrel_ID.nunique()\n",
    "print(data_squirrel.Age)"
   ]
  },
  {
   "cell_type": "code",
   "execution_count": 9,
   "metadata": {},
   "outputs": [
    {
     "name": "stdout",
     "output_type": "stream",
     "text": [
      "        Age  Count\n",
      "0     Adult   2568\n",
      "1  Juvenile    330\n",
      "2         ?      4\n"
     ]
    }
   ],
   "source": [
    "age_squirrel = data_squirrel.Age.value_counts().reset_index()\n",
    "age_squirrel = age_squirrel.rename(columns={'index':'Age', 'Age':'Count'})\n",
    "print(age_squirrel)"
   ]
  },
  {
   "cell_type": "code",
   "execution_count": 13,
   "metadata": {},
   "outputs": [
    {
     "name": "stdout",
     "output_type": "stream",
     "text": [
      "Index(['Age', 'Count'], dtype='object')\n"
     ]
    }
   ],
   "source": [
    "labels = age_squirrel.keys()\n",
    "print(labels)"
   ]
  },
  {
   "cell_type": "code",
   "execution_count": 13,
   "metadata": {},
   "outputs": [
    {
     "name": "stdout",
     "output_type": "stream",
     "text": [
      "0       Adult\n",
      "1    Juvenile\n",
      "2           ?\n",
      "Name: Age, dtype: object\n"
     ]
    }
   ],
   "source": [
    "\n",
    "import pandas as pd \n",
    "\n",
    "data_squirrel = pd.read_csv('datas/2018_Central_Park_Squirrel_Census_-_Squirrel_Data.csv')\n",
    "age_squirrel = data_squirrel.Age.value_counts().reset_index()\n",
    "age_squirrel = age_squirrel.rename(columns={'index':'Age', 'Age':'Count'})\n",
    "labels = age_squirrel.Age\n",
    "print(labels)"
   ]
  },
  {
   "cell_type": "code",
   "execution_count": 10,
   "metadata": {},
   "outputs": [
    {
     "name": "stdout",
     "output_type": "stream",
     "text": [
      "day\n",
      "06    337\n",
      "07    405\n",
      "08    285\n",
      "10    335\n",
      "12    218\n",
      "13    434\n",
      "14    368\n",
      "17    216\n",
      "18    200\n",
      "19    158\n",
      "20     67\n",
      "dtype: int64\n"
     ]
    }
   ],
   "source": [
    "from datetime import datetime\n",
    "\n",
    "data_squirrel['Date'] = pd.to_datetime(data_squirrel['Date'], format='%m%d%Y')\n",
    "data_squirrel['month'] = data_squirrel['Date'].dt.strftime('%m')\n",
    "data_squirrel['day'] = data_squirrel['Date'].dt.strftime('%d')\n",
    "data_squirrel['year'] = data_squirrel['Date'].dt.strftime('%Y')\n",
    "data_squirrel_grouped = data_squirrel.groupby(['day']).size()\n",
    "days = data_squirrel['day'].sort_values(ascending=[True])\n",
    "print(data_squirrel_grouped)\n"
   ]
  },
  {
   "cell_type": "code",
   "execution_count": 15,
   "metadata": {},
   "outputs": [
    {
     "name": "stdout",
     "output_type": "stream",
     "text": [
      "['PM' 'AM']\n"
     ]
    }
   ],
   "source": [
    "\n",
    "print(data_squirrel.Shift.unique())"
   ]
  },
  {
   "cell_type": "code",
   "execution_count": 22,
   "metadata": {},
   "outputs": [
    {
     "name": "stdout",
     "output_type": "stream",
     "text": [
      "['Adult' 'Juvenile' '?']\n"
     ]
    }
   ],
   "source": [
    "age_squirrel = data_squirrel.Age.value_counts().reset_index()\n",
    "age_squirrel = age_squirrel.rename(columns={'index':'Age', 'Age':'Count'})\n",
    "age_labels = age_squirrel['Age'].dropna().unique()\n",
    "print(age_labels)\n"
   ]
  }
 ],
 "metadata": {
  "kernelspec": {
   "display_name": "Python 3",
   "language": "python",
   "name": "python3"
  },
  "language_info": {
   "codemirror_mode": {
    "name": "ipython",
    "version": 3
   },
   "file_extension": ".py",
   "mimetype": "text/x-python",
   "name": "python",
   "nbconvert_exporter": "python",
   "pygments_lexer": "ipython3",
   "version": "3.11.1"
  },
  "orig_nbformat": 4,
  "vscode": {
   "interpreter": {
    "hash": "16d48ab8815dff4b6f48d0f416a4684b0cce89c2e7252ff1f2f3c45532505d42"
   }
  }
 },
 "nbformat": 4,
 "nbformat_minor": 2
}
